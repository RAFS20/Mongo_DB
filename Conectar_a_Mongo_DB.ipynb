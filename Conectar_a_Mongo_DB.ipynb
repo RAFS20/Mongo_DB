{
  "nbformat": 4,
  "nbformat_minor": 0,
  "metadata": {
    "colab": {
      "provenance": [],
      "authorship_tag": "ABX9TyO8GRGtj4UkY8/oxZ4pR8wL",
      "include_colab_link": true
    },
    "kernelspec": {
      "name": "python3",
      "display_name": "Python 3"
    },
    "language_info": {
      "name": "python"
    }
  },
  "cells": [
    {
      "cell_type": "markdown",
      "metadata": {
        "id": "view-in-github",
        "colab_type": "text"
      },
      "source": [
        "<a href=\"https://colab.research.google.com/github/RAFS20/Mongo_DB/blob/main/Conectar_a_Mongo_DB.ipynb\" target=\"_parent\"><img src=\"https://colab.research.google.com/assets/colab-badge.svg\" alt=\"Open In Colab\"/></a>"
      ]
    },
    {
      "cell_type": "markdown",
      "source": [
        "Cuaderno de: Ricardo Alonzo Fernández Salguero"
      ],
      "metadata": {
        "id": "lVz3LzcaWSba"
      }
    },
    {
      "cell_type": "markdown",
      "source": [
        "## Instalación de pymongo\n",
        "\n",
        "```python\n",
        "# Instala pymongo para Python\n",
        "!pip install pymongo\n",
        "```\n",
        "\n",
        "En esta sección del código, se utiliza un comando de instalación (`pip install`) para instalar la biblioteca `pymongo` en Python. `pip` es el administrador de paquetes de Python que se utiliza para instalar bibliotecas y paquetes de terceros. El comando `pip install pymongo` indica a Python que descargue e instale la biblioteca `pymongo` en el entorno de desarrollo.\n",
        "\n",
        "La notación `!` antes del comando `pip` es específica de algunos entornos de desarrollo, como Jupyter Notebook, y se utiliza para ejecutar comandos de la línea de comandos directamente desde el entorno de código.\n",
        "\n",
        "La biblioteca `pymongo` es una interfaz de Python para trabajar con MongoDB, una base de datos NoSQL ampliamente utilizada.\n",
        "\n",
        "Una vez que se ejecute este comando, se instalará la biblioteca `pymongo` y estará lista para su uso en el entorno de Python.\n",
        "\n",
        "Este código es una forma sencilla de asegurarse de que la biblioteca `pymongo` esté disponible en el entorno de desarrollo antes de comenzar a escribir código que la utilice."
      ],
      "metadata": {
        "id": "mLLBqqwbtGU3"
      }
    },
    {
      "cell_type": "code",
      "execution_count": null,
      "metadata": {
        "colab": {
          "base_uri": "https://localhost:8080/"
        },
        "id": "FBHWZ0v8zBxf",
        "outputId": "cfcb7a8d-7b4b-4ebd-f34b-d650fb2385e5"
      },
      "outputs": [
        {
          "output_type": "stream",
          "name": "stdout",
          "text": [
            "Collecting pymongo\n",
            "  Downloading pymongo-4.5.0-cp310-cp310-manylinux_2_17_x86_64.manylinux2014_x86_64.whl (671 kB)\n",
            "\u001b[2K     \u001b[90m━━━━━━━━━━━━━━━━━━━━━━━━━━━━━━━━━━━━━━━\u001b[0m \u001b[32m671.3/671.3 kB\u001b[0m \u001b[31m5.8 MB/s\u001b[0m eta \u001b[36m0:00:00\u001b[0m\n",
            "\u001b[?25hCollecting dnspython<3.0.0,>=1.16.0 (from pymongo)\n",
            "  Downloading dnspython-2.4.2-py3-none-any.whl (300 kB)\n",
            "\u001b[2K     \u001b[90m━━━━━━━━━━━━━━━━━━━━━━━━━━━━━━━━━━━━━━━\u001b[0m \u001b[32m300.4/300.4 kB\u001b[0m \u001b[31m9.0 MB/s\u001b[0m eta \u001b[36m0:00:00\u001b[0m\n",
            "\u001b[?25hInstalling collected packages: dnspython, pymongo\n",
            "Successfully installed dnspython-2.4.2 pymongo-4.5.0\n"
          ]
        }
      ],
      "source": [
        "# Instala pymongo para Python\n",
        "!pip install pymongo"
      ]
    },
    {
      "cell_type": "markdown",
      "source": [
        "## Importaciones de bibliotecas\n",
        "\n",
        "```python\n",
        "# Importa pymongo\n",
        "from pymongo import MongoClient\n",
        "# Importa ServerSelectionTimeoutError de pymongo.errors\n",
        "from pymongo.errors import ServerSelectionTimeoutError\n",
        "# Importa la biblioteca SSL\n",
        "import ssl\n",
        "```\n",
        "\n",
        "En esta sección del código, se realizan las importaciones necesarias de bibliotecas que se utilizarán en el programa. Las bibliotecas importadas son:\n",
        "\n",
        "- `pymongo`: Esta biblioteca proporciona una interfaz para trabajar con MongoDB desde Python. Se utiliza para realizar operaciones en la base de datos MongoDB.\n",
        "\n",
        "- `ServerSelectionTimeoutError`: Esta excepción se importa desde `pymongo.errors` y se utilizará para manejar errores relacionados con la selección del servidor en MongoDB.\n",
        "\n",
        "- `ssl`: Esta biblioteca se utiliza para configurar opciones de SSL (Secure Socket Layer), que son importantes para establecer conexiones seguras en línea.\n",
        "\n",
        "## Configuración de SSL\n",
        "\n",
        "```python\n",
        "# Configura opciones de SSL\n",
        "ssl._create_default_https_context = ssl._create_unverified_context\n",
        "```\n",
        "\n",
        "En esta parte del código, se configuran las opciones de SSL. La línea `ssl._create_default_https_context = ssl._create_unverified_context` establece una configuración de contexto SSL no verificado, lo que significa que no se verificarán los certificados SSL al establecer conexiones HTTPS. Esto es útil cuando se trabaja con bases de datos alojadas en servidores que utilizan certificados SSL autofirmados o no válidos.\n",
        "\n",
        "## Cadena de conexión a MongoDB\n",
        "\n",
        "```python\n",
        "# Pega la cadena de conexión aquí (reemplaza <username>, <password>, <clustername> y <database> con tus propios valores)\n",
        "connection_string = \"mongodb+srv://<clases>:<J4!8$$2kuqrYd7X>@cluster0.segsxqx.mongodb.net/?retryWrites=true&w=majority\"\n",
        "```\n",
        "\n",
        "En esta línea, se define la cadena de conexión a la base de datos MongoDB. Esta cadena debe ser proporcionada por el proveedor de servicios de MongoDB y contiene la información necesaria para conectarse a la base de datos. Los elementos que deben reemplazarse en la cadena son:\n",
        "\n",
        "- `<username>`: El nombre de usuario utilizado para acceder a la base de datos.\n",
        "\n",
        "- `<password>`: La contraseña asociada al nombre de usuario.\n",
        "\n",
        "- `<clustername>`: El nombre del clúster de MongoDB al que se desea conectar.\n",
        "\n",
        "- `<database>`: El nombre de la base de datos a la que se desea acceder una vez que se establezca la conexión.\n",
        "\n",
        "## Intento de conexión a MongoDB\n",
        "\n",
        "```python\n",
        "try:\n",
        "    # Conéctate a la base de datos\n",
        "    client = MongoClient(connection_string)\n",
        "    # Selecciona la base de datos\n",
        "    db = client.get_database(\"<database>\")\n",
        "    print(\"Conexión exitosa a la base de datos\")\n",
        "except ServerSelectionTimeoutError as e:\n",
        "    print(f\"Error al conectarse a la base de datos: {str(e)}\")\n",
        "except Exception as e:\n",
        "    print(f\"Error general: {str(e)}\")\n",
        "```\n",
        "\n",
        "Esta parte del código realiza un intento de conexión a la base de datos MongoDB utilizando la cadena de conexión definida previamente.\n",
        "\n",
        "- En el bloque `try`, se intenta realizar la conexión a la base de datos mediante la creación de un objeto `MongoClient` con la cadena de conexión `connection_string`. Esto establecerá la conexión con el clúster de MongoDB.\n",
        "\n",
        "- Luego, se utiliza `client.get_database(\"<database>\")` para seleccionar la base de datos específica a la que se desea acceder. `<database>` se reemplazará con el nombre de la base de datos proporcionado en la cadena de conexión.\n",
        "\n",
        "- Si la conexión y la selección de la base de datos se realizan con éxito, se imprime \"Conexión exitosa a la base de datos\".\n",
        "\n",
        "- En caso de que ocurra un error durante el proceso de conexión, se capturan y manejan las excepciones. Específicamente, se maneja `ServerSelectionTimeoutError`, que puede ocurrir si no se puede seleccionar un servidor válido, y cualquier otra excepción general que pueda ocurrir durante la conexión. Los detalles del error se imprimen en caso de que ocurra un problema.\n",
        "\n",
        "Este código es un ejemplo básico de cómo conectarse a una base de datos MongoDB desde Python utilizando la biblioteca `pymongo`. La cadena de conexión debe configurarse correctamente con las credenciales y la información del clúster de MongoDB al que se desea acceder. La configuración de SSL no verificado es útil en situaciones en las que se trabaja con certificados SSL no válidos o autofirmados, pero es importante tener en cuenta los riesgos de seguridad asociados con esta configuración en un entorno de producción."
      ],
      "metadata": {
        "id": "VeXyWOWAs3B4"
      }
    },
    {
      "cell_type": "code",
      "source": [
        "# Importa pymongo\n",
        "from pymongo import MongoClient\n",
        "from pymongo.errors import ServerSelectionTimeoutError\n",
        "import ssl\n",
        "\n",
        "# Configura opciones de SSL\n",
        "ssl._create_default_https_context = ssl._create_unverified_context\n",
        "\n",
        "# Pega la cadena de conexión aquí (reemplaza <username>, <password>, <clustername> y <database> con tus propios valores)\n",
        "connection_string = \"mongodb+srv://<clases>:<J4!8$$2kuqrYd7X>@cluster0.segsxqx.mongodb.net/?retryWrites=true&w=majority\"\n",
        "\n",
        "\n",
        "try:\n",
        "    # Conéctate a la base de datos\n",
        "    client = MongoClient(connection_string)\n",
        "\n",
        "    # Selecciona la base de datos\n",
        "    db = client.get_database(\"<database>\")\n",
        "\n",
        "    print(\"Conexión exitosa a la base de datos\")\n",
        "except ServerSelectionTimeoutError as e:\n",
        "    print(f\"Error al conectarse a la base de datos: {str(e)}\")\n",
        "except Exception as e:\n",
        "    print(f\"Error general: {str(e)}\")"
      ],
      "metadata": {
        "colab": {
          "base_uri": "https://localhost:8080/"
        },
        "id": "78YZjd0QzvB6",
        "outputId": "28ead9ce-9499-4ad9-bd05-fe8bdaef72ce"
      },
      "execution_count": null,
      "outputs": [
        {
          "output_type": "stream",
          "name": "stdout",
          "text": [
            "Conexión exitosa a la base de datos\n"
          ]
        }
      ]
    }
  ]
}